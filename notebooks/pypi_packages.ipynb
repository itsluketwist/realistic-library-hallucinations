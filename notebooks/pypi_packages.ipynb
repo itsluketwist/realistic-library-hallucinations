{
 "cells": [
  {
   "cell_type": "markdown",
   "id": "1164c136",
   "metadata": {},
   "source": [
    "# Download and save PyPI packages\n",
    "\n",
    "Download the current list of package names from [PyPI](https://pypi.org/), the Python package index.\n",
    "\n",
    "Normalise the package names as described by the [Python Packaging User Guide](https://packaging.python.org/en/latest/specifications/name-normalization/)."
   ]
  },
  {
   "cell_type": "code",
   "execution_count": 1,
   "id": "166f7440",
   "metadata": {},
   "outputs": [],
   "source": [
    "PYPI_PACKAGES_URL = \"https://pypi.org/simple/\""
   ]
  },
  {
   "cell_type": "code",
   "execution_count": 2,
   "id": "8629eea4",
   "metadata": {},
   "outputs": [],
   "source": [
    "# download the html from pypi\n",
    "\n",
    "import requests\n",
    "\n",
    "response = requests.get(PYPI_PACKAGES_URL)\n",
    "response.raise_for_status()  # ensure we stop if something goes wrong"
   ]
  },
  {
   "cell_type": "code",
   "execution_count": 3,
   "id": "2b7ab148",
   "metadata": {},
   "outputs": [],
   "source": [
    "# extract the package names from the html\n",
    "\n",
    "from bs4 import BeautifulSoup\n",
    "\n",
    "soup = BeautifulSoup(response.text, \"html.parser\")\n",
    "packages = {\n",
    "    a.text for a in soup.find_all(\"a\") if a.text\n",
    "}  # each <a> tag is a project name"
   ]
  },
  {
   "cell_type": "code",
   "execution_count": 4,
   "id": "cea22ba9",
   "metadata": {},
   "outputs": [],
   "source": [
    "# normalise the package names\n",
    "\n",
    "from src.libraries.format import python_normalise\n",
    "\n",
    "normalised = {python_normalise(name) for name in packages}"
   ]
  },
  {
   "cell_type": "code",
   "execution_count": null,
   "id": "d0c157a1",
   "metadata": {},
   "outputs": [],
   "source": [
    "# save the downloaded package names\n",
    "\n",
    "from llm_cgr import save_json\n",
    "from datetime import datetime\n",
    "\n",
    "save_json(\n",
    "    data={\n",
    "        \"datetime\": datetime.now().isoformat(),\n",
    "        \"data\": sorted(normalised),\n",
    "    },\n",
    "    file_path=\"../data/libraries/pypi.json\",\n",
    ")"
   ]
  },
  {
   "cell_type": "code",
   "execution_count": null,
   "id": "58a1fe28",
   "metadata": {},
   "outputs": [],
   "source": []
  }
 ],
 "metadata": {
  "kernelspec": {
   "display_name": ".venv",
   "language": "python",
   "name": "python3"
  },
  "language_info": {
   "codemirror_mode": {
    "name": "ipython",
    "version": 3
   },
   "file_extension": ".py",
   "mimetype": "text/x-python",
   "name": "python",
   "nbconvert_exporter": "python",
   "pygments_lexer": "ipython3",
   "version": "3.11.10"
  }
 },
 "nbformat": 4,
 "nbformat_minor": 5
}
