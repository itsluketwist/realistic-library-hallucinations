{
 "cells": [
  {
   "cell_type": "code",
   "execution_count": 1,
   "id": "2951c43e",
   "metadata": {},
   "outputs": [
    {
     "name": "stdout",
     "output_type": "stream",
     "text": [
      "To solve the problem of returning all possible letter combinations that a string of digits (from 2-9) could represent based on the telephone button mapping, we can use a recursive backtracking approach. Let's first create a mapping of the digits to their corresponding letters, then we can implement a function that generates all combinations.\n",
      "\n",
      "Here's a Python function to accomplish this:\n",
      "\n",
      "```python\n",
      "def letter_combinations(digits):\n",
      "    if not digits:\n",
      "        return []\n",
      "    \n",
      "    # Mapping of digits to letters\n",
      "    digit_to_letters = {\n",
      "        '2': 'abc',\n",
      "        '3': 'def',\n",
      "        '4': 'ghi',\n",
      "        '5': 'jkl',\n",
      "        '6': 'mno',\n",
      "        '7': 'pqrs',\n",
      "        '8': 'tuv',\n",
      "        '9': 'wxyz'\n",
      "    }\n",
      "\n",
      "    def backtrack(index, path):\n",
      "        # If the current path length is equal to the length of digits,\n",
      "        # we have a complete combination\n",
      "        if index == len(digits):\n",
      "            combinations.append(''.join(path))\n",
      "            return\n",
      "        \n",
      "        # Get the letters that the current digit maps to, and loop through them\n",
      "        current_digit = digits[index]\n",
      "        for letter in digit_to_letters[current_digit]:\n",
      "            # Add the letter to the current combination\n",
      "            path.append(letter)\n",
      "            # Move on to the next digit\n",
      "            backtrack(index + 1, path)\n",
      "            # Backtrack to explore other combinations\n",
      "            path.pop()\n",
      "\n",
      "    combinations = []\n",
      "    backtrack(0, [])\n",
      "    return combinations\n",
      "\n",
      "# Example usage:\n",
      "result = letter_combinations(\"23\")\n",
      "print(result)\n",
      "```\n",
      "\n",
      "### Explanation:\n",
      "\n",
      "1. **Mapping Creation**: A dictionary `digit_to_letters` is created that maps each digit (as a string) to the corresponding letters.\n",
      "\n",
      "2. **Base Condition**: The function checks if `digits` is empty. If so, it returns an empty list because there are no combinations.\n",
      "\n",
      "3. **Backtrack Function**: The inner function `backtrack` is defined, which takes the current index and the current combination path as arguments.\n",
      "   - When the index equals the length of the digits, it means a complete combination has been formed, and it gets added to the `combinations` list.\n",
      "   - If not yet at the end, the function retrieves letters corresponding to the current digit and loops through each letter. For each letter:\n",
      "     - It adds the letter to the current combination.\n",
      "     - Calls `backtrack` recursively for the next digit.\n",
      "     - After returning from the recursion, it removes the last letter (backtracks) to explore other possibilities.\n",
      "\n",
      "4. **Generating Combinations**: Finally, the function is called with the input, and the result is printed.\n",
      "\n",
      "This method effectively explores all combinations of letters that can be formed from the input string of digits.\n"
     ]
    }
   ],
   "source": [
    "from llm_cgr.api import quick_complete\n",
    "\n",
    "solve = \"\"\"Write a python function to solve the following problem:\n",
    "Given a string containing digits from 2-9 inclusive, return all possible letter combinations that the number could represent. Return the answer in any order.\n",
    "\n",
    "A mapping of digits to letters (just like on the telephone buttons) is given below. Note that 1 does not map to any letters.\n",
    "\n",
    "The mapping is as follows:\n",
    "1: None\n",
    "2: a, b, c\n",
    "3: d, e, f\n",
    "4: g, h, i\n",
    "5: j, k, l\n",
    "6: m, n, o\n",
    "7: p, q, r, s\n",
    "8: t, u, v\n",
    "9: w, x, y, z\n",
    "0: None\n",
    "\"\"\"\n",
    "\n",
    "x = quick_complete(\n",
    "    user=solve,\n",
    "    model=\"gpt-4o-mini\",\n",
    ")\n",
    "\n",
    "print(x)"
   ]
  },
  {
   "cell_type": "code",
   "execution_count": 5,
   "id": "c72876c8",
   "metadata": {},
   "outputs": [
    {
     "name": "stdout",
     "output_type": "stream",
     "text": [
      "python\n"
     ]
    }
   ],
   "source": [
    "print(x.code_blocks[0].language)"
   ]
  },
  {
   "cell_type": "code",
   "execution_count": null,
   "id": "9e22a02f",
   "metadata": {},
   "outputs": [],
   "source": []
  },
  {
   "cell_type": "code",
   "execution_count": null,
   "id": "cc3301cd",
   "metadata": {},
   "outputs": [],
   "source": []
  },
  {
   "cell_type": "code",
   "execution_count": null,
   "id": "8076e4b1",
   "metadata": {},
   "outputs": [],
   "source": []
  }
 ],
 "metadata": {
  "kernelspec": {
   "display_name": ".venv",
   "language": "python",
   "name": "python3"
  },
  "language_info": {
   "codemirror_mode": {
    "name": "ipython",
    "version": 3
   },
   "file_extension": ".py",
   "mimetype": "text/x-python",
   "name": "python",
   "nbconvert_exporter": "python",
   "pygments_lexer": "ipython3",
   "version": "3.11.10"
  }
 },
 "nbformat": 4,
 "nbformat_minor": 5
}
